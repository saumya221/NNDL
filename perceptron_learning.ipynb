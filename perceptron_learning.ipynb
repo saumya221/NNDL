{
 "cells": [
  {
   "cell_type": "markdown",
   "id": "b1935f60",
   "metadata": {},
   "source": [
    "Perceptrons were developed in 1950s and 1960s by Frank Rosenblatt, inspired by McCulloch and Walter Pitts neuron. \n",
    "Basic perceptron takes several binary inputs and produce a single binary output based on threshold. \n",
    "\n",
    "$output = 0, if \\sum w_jx_j \\leq threshold$\n",
    "\n",
    "\n",
    "$output = 1, if \\sum w_jx_j > threshold$\n",
    "\n",
    "we can get rid of the threshold term and introduce a bias term, such that, \n",
    "\n",
    "$output = 0, if w.x+b \\leq 0 $\n",
    "\n",
    "\n",
    "$output = 1, if w.x+b > 0$\n",
    "\n",
    "perceptron learning algorithm is given as:\n",
    "\n",
    "$ P <- \\ inputs \\ with \\ label \\ 1 $\n",
    "\n",
    "$ N <- \\ inputs \\ with \\ label \\ 0 $\n",
    "\n",
    "$ input: x_i^j, i=0,1,2,...,n$\n",
    "\n",
    "$output: y^j$\n",
    "\n",
    "$initialize \\ weights \\:w, \\ bias : b $\n",
    "\n",
    "$ while \\ no \\ convergence: $\n",
    "\n",
    "$    if y \\epsilon P \\ and \\ w.x+b \\le 0, \\ then \\ w=w+x$\n",
    "\n",
    "$    if y \\epsilon N \\ and \\ w.x+b > 0, \\ then \\ w=w-x$\n",
    " \n",
    "\n",
    "\n"
   ]
  },
  {
   "cell_type": "code",
   "execution_count": 1,
   "id": "2512e4e3",
   "metadata": {},
   "outputs": [],
   "source": [
    "#imports\n",
    "import numpy as np"
   ]
  },
  {
   "cell_type": "markdown",
   "id": "75f29f9e",
   "metadata": {},
   "source": [
    "## Simple perceptron learning scheme for binary  operations"
   ]
  },
  {
   "cell_type": "code",
   "execution_count": 42,
   "id": "89cfd782",
   "metadata": {},
   "outputs": [],
   "source": [
    "class perceptron:\n",
    "    def __init__(self,x,y):\n",
    "        self.x=x\n",
    "        self.y=y\n",
    "        width,height=self.x.shape\n",
    "        #initialize weights an\n",
    "        self.w=np.random.rand(1,height)+5.0\n",
    "\n",
    "        \n",
    "    def train(self,epochs=100):\n",
    "        last_epoch_printed=0\n",
    "        for epoch in range(epochs):\n",
    "            for i in range(len(self.x)):\n",
    "                if self.y[i] ==1:\n",
    "                    if np.squeeze(np.inner(self.w,self.x[i]))<0:\n",
    "                        self.w += self.x[i]\n",
    "                else:\n",
    "                    if np.squeeze(np.inner(self.w,self.x[i]))>=0:\n",
    "                        self.w -= self.x[i]\n",
    "            num_misclassfieid=self.calculate_misclassified()\n",
    "            if epoch%10==0:\n",
    "                print(\"epoch:{}, misclassified:{}\".format(epoch+1,num_misclassfieid))\n",
    "                last_epoch_printed=epoch\n",
    "            if num_misclassfieid==0:\n",
    "                break\n",
    "        if last_epoch_printed!=epoch:\n",
    "            print(\"epoch:{}, misclassified:{}\".format(epoch+1,num_misclassfieid))\n",
    "        \n",
    "    def calculate_misclassified(self):\n",
    "        count=0\n",
    "        for i in range(len(self.x)):\n",
    "        \n",
    "            y_predicted=np.squeeze(np.inner(self.w,self.x[i]))\n",
    "            if y_predicted >0.5:\n",
    "                y_predicted=1\n",
    "            else:\n",
    "                y_predicted=0\n",
    "            if y_predicted!=self.y[i]:\n",
    "                count +=1\n",
    "#             print(\"input:{},output:{},predicted:{}\".format(self.x[i],self.y[i],y_predicted))\n",
    "        return count \n",
    "\n",
    "    def predict(self,x):\n",
    "        y_predicted=np.squeeze(np.inner(self.w,x))\n",
    "        if y_predicted >0.5:\n",
    "            y_predicted=1\n",
    "        else:\n",
    "            y_predicted=0\n",
    "        print(\"output:{}\".format(y_predicted))\n",
    "    \n",
    "    \n",
    "                \n",
    "        \n",
    "        "
   ]
  },
  {
   "cell_type": "code",
   "execution_count": 51,
   "id": "0b660b1b",
   "metadata": {},
   "outputs": [
    {
     "name": "stdout",
     "output_type": "stream",
     "text": [
      "epoch:1, misclassified:5\n",
      "epoch:3, misclassified:0\n",
      "output:0\n"
     ]
    }
   ],
   "source": [
    "#train a sample 3 dimension input and a corresponding output \n",
    "x=np.array([[1,0,0,0],[1,0,0,1],[1,0,1,0],[1,0,1,1],[1,1,0,0],[1,1,0,1],[1,1,1,0],[1,1,1,1]])\n",
    "y=np.array([[0],[0],[0],[1],[0],[0],[0],[1]])\n",
    "p=perceptron(x,y)\n",
    "p.train(1000)\n",
    "\n",
    "#predict for some of the inputs\n",
    "p.predict([[1,1,0,1]])"
   ]
  },
  {
   "cell_type": "markdown",
   "id": "6461849e",
   "metadata": {},
   "source": [
    "### It can be seen that this simple single layer perceptron won't be able to train a XOR dataset"
   ]
  },
  {
   "cell_type": "code",
   "execution_count": 53,
   "id": "eabab846",
   "metadata": {},
   "outputs": [
    {
     "name": "stdout",
     "output_type": "stream",
     "text": [
      "epoch:1, misclassified:4\n",
      "epoch:11, misclassified:6\n",
      "epoch:21, misclassified:6\n",
      "epoch:31, misclassified:6\n",
      "epoch:41, misclassified:6\n",
      "epoch:51, misclassified:6\n",
      "epoch:61, misclassified:6\n",
      "epoch:71, misclassified:6\n",
      "epoch:81, misclassified:6\n",
      "epoch:91, misclassified:6\n",
      "epoch:101, misclassified:6\n",
      "epoch:111, misclassified:6\n",
      "epoch:121, misclassified:6\n",
      "epoch:131, misclassified:6\n",
      "epoch:141, misclassified:6\n",
      "epoch:151, misclassified:6\n",
      "epoch:161, misclassified:6\n",
      "epoch:171, misclassified:6\n",
      "epoch:181, misclassified:6\n",
      "epoch:191, misclassified:6\n",
      "epoch:201, misclassified:6\n",
      "epoch:211, misclassified:6\n",
      "epoch:221, misclassified:6\n",
      "epoch:231, misclassified:6\n",
      "epoch:241, misclassified:6\n",
      "epoch:251, misclassified:6\n",
      "epoch:261, misclassified:6\n",
      "epoch:271, misclassified:6\n",
      "epoch:281, misclassified:6\n",
      "epoch:291, misclassified:6\n",
      "epoch:301, misclassified:6\n",
      "epoch:311, misclassified:6\n",
      "epoch:321, misclassified:6\n",
      "epoch:331, misclassified:6\n",
      "epoch:341, misclassified:6\n",
      "epoch:351, misclassified:6\n",
      "epoch:361, misclassified:6\n",
      "epoch:371, misclassified:6\n",
      "epoch:381, misclassified:6\n",
      "epoch:391, misclassified:6\n",
      "epoch:401, misclassified:6\n",
      "epoch:411, misclassified:6\n",
      "epoch:421, misclassified:6\n",
      "epoch:431, misclassified:6\n",
      "epoch:441, misclassified:6\n",
      "epoch:451, misclassified:6\n",
      "epoch:461, misclassified:6\n",
      "epoch:471, misclassified:6\n",
      "epoch:481, misclassified:6\n",
      "epoch:491, misclassified:6\n",
      "epoch:500, misclassified:6\n"
     ]
    }
   ],
   "source": [
    "#train a sample 3 dimension input and XOR output\n",
    "x=np.array([[1,0,0,0],[1,0,0,1],[1,0,1,0],[1,0,1,1],[1,1,0,0],[1,1,0,1],[1,1,1,0],[1,1,1,1]])\n",
    "y=np.array([[0],[1],[1],[0],[1],[0],[0],[1]])\n",
    "p=perceptron(x,y)\n",
    "p.train(500)"
   ]
  },
  {
   "cell_type": "code",
   "execution_count": null,
   "id": "2d2ad1ed",
   "metadata": {},
   "outputs": [],
   "source": []
  }
 ],
 "metadata": {
  "kernelspec": {
   "display_name": "Python 3 (ipykernel)",
   "language": "python",
   "name": "python3"
  },
  "language_info": {
   "codemirror_mode": {
    "name": "ipython",
    "version": 3
   },
   "file_extension": ".py",
   "mimetype": "text/x-python",
   "name": "python",
   "nbconvert_exporter": "python",
   "pygments_lexer": "ipython3",
   "version": "3.9.12"
  }
 },
 "nbformat": 4,
 "nbformat_minor": 5
}
