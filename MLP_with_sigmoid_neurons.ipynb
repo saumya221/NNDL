{
 "cells": [
  {
   "cell_type": "code",
   "execution_count": 1,
   "id": "abe179d9",
   "metadata": {},
   "outputs": [],
   "source": [
    "#imports\n",
    "import numpy as np\n",
    "from matplotlib import pyplot as plt\n",
    "import pandas as pd"
   ]
  },
  {
   "cell_type": "code",
   "execution_count": 2,
   "id": "efdc3ba3",
   "metadata": {},
   "outputs": [],
   "source": [
    "#supporting functions\n",
    "#function to display multiple images in subplots\n",
    "def display_images(list_of_images,list_of_titles=None):\n",
    "    N=len(list_of_images)\n",
    "    M=int(np.ceil(N/2))\n",
    "    figs,ax=plt.subplots(M,2,figsize=(12,12))\n",
    "    ax=ax.flatten()\n",
    "    for i in range(len(list_of_images)):\n",
    "        ax[i].imshow(list_of_images[i],cmap='gray')\n",
    "        if list_of_titles is not None:\n",
    "            ax[i].title.set_text(list_of_titles[i])\n",
    "\n",
    "    plt.show()"
   ]
  },
  {
   "cell_type": "markdown",
   "id": "5a6522b2",
   "metadata": {},
   "source": [
    "Problem with perceptron module is its input and output are binary 0 and 1. Hence a  change in any of the input may result in a complete flipping of 0 to 1 or vice versa. Which is not an ideal result for learning . \n",
    "What we want is for the module to have small change in output when small change in input is provided. Then the system would be able to learn from the data. \n",
    "Hence we will use another type of neuron called sigmoid neuron , whose inputs are not restricted to 0 and 1. \n",
    "sigmoid neuron takes any value between 0 and 1 as input and output is given by\n",
    "$output\\ = \\ \\sigma(wx+b) $\n",
    "\n",
    "$ \\sigma(z)=1/(1+e^{-z}) $"
   ]
  },
  {
   "cell_type": "code",
   "execution_count": 3,
   "id": "cdf72cd9",
   "metadata": {},
   "outputs": [],
   "source": [
    "#function to define sigmoid neuron\n",
    "def sigmoid(x):\n",
    "    return 1/(1+np.exp(-x))"
   ]
  },
  {
   "cell_type": "code",
   "execution_count": 4,
   "id": "b50e898b",
   "metadata": {},
   "outputs": [
    {
     "data": {
      "image/png": "[encoded data removed]",
      "text/plain": [
       "<Figure size 432x288 with 1 Axes>"
      ]
     },
     "metadata": {
      "needs_background": "light"
     },
     "output_type": "display_data"
    }
   ],
   "source": [
    "#plot the sigmoid output\n",
    "x=np.linspace(-6,6,1000)\n",
    "y=sigmoid(x)\n",
    "plt.plot(x,y,'k.')\n",
    "plt.grid()"
   ]
  },
  {
   "cell_type": "markdown",
   "id": "cb8abe0d",
   "metadata": {},
   "source": [
    "As we can see from the above plot, the output curve is a smooth function as compared to the abrupt step function which was the case for perceptron. \n",
    "Now, we can create multiple layers of perceptron neurons to try to learn complex features than binary relationships. \n"
   ]
  },
  {
   "cell_type": "markdown",
   "id": "bcad4e7e",
   "metadata": {},
   "source": [
    "Next question arises: How the learning actually happens? it happens through an algorithm called gradient descent. We will implement gradient descent from first principle to see how it works. "
   ]
  },
  {
   "cell_type": "markdown",
   "id": "fd20e758",
   "metadata": {},
   "source": [
    "To achieve this, we will use MNIST dataset for training and testing the algorithms. MNIST dataset is a modified subsets of two data sets collected by NIST, the US National Institute of Standards and Technology. \n",
    "it has 60000 images to be used as training data and 10000 images to be used as test data. Each image is of 28 by 28 greyscale image. "
   ]
  },
  {
   "cell_type": "markdown",
   "id": "e3e5d992",
   "metadata": {},
   "source": [
    "We denote x as a 28x28=784 dimensional vector. output y is denoted as a 10-dimensional vector, with only the index matching with desired output being 1 and rest being 0. so if output is 6, output vector would be $(0,0,0,0,0,0,1,0,0,0)^T$"
   ]
  },
  {
   "cell_type": "markdown",
   "id": "e08daa0c",
   "metadata": {},
   "source": [
    "Any training algorithm has three main components.\n",
    "\n",
    "1. objective function / cost function / loss function\n",
    "2. activation \n",
    "3. learning methodology \n",
    "\n",
    "in this case, we will use Mean Square Error (MSE) as the cost function, which can be defined as:\n",
    "\n",
    "$ C(w,b)=\\frac{1}{2n}\\sum_{x}||y(x)-a||^2  $\n",
    "\n",
    "where \n",
    "\n",
    "    n=number of training samples\n",
    "    a=approximation of output from the network\n",
    "    y(x) = output vector \n",
    "    w = all the weights in the network\n",
    "    b = all the biases in the network"
   ]
  },
  {
   "cell_type": "markdown",
   "id": "7becd3c0",
   "metadata": {},
   "source": [
    "Gradient descent algorithm for this cost function is formulated as below:\n",
    "\n",
    "   $ w_k \\rightarrow w_k' = w_k - \\eta\\frac{ \\partial C}{\\delta w_k} $\n",
    "   \n",
    "   $ b_l \\rightarrow b_l' = b_l - \\eta\\frac{ \\partial C}{\\delta b_l} $   \n"
   ]
  },
  {
   "cell_type": "markdown",
   "id": "047f14cd",
   "metadata": {},
   "source": [
    "As we have to carry out these calculation for the entire dataset in repeated manner, the size of dataset may slow down the learning. Hence we adopt a process called mini batch gradient descent, where we sample a random set of m training inputs and update the weight and repeat till the entire dataset is exhausted. this one iteration is called one epoch.  This process sometimes is also called stochastic gradient descent. "
   ]
  },
  {
   "cell_type": "markdown",
   "id": "2bb38a70",
   "metadata": {},
   "source": [
    "### Backpropagation algorithm derivation"
   ]
  },
  {
   "cell_type": "markdown",
   "id": "b4f7bb74",
   "metadata": {},
   "source": [
    "Notations:\n",
    "1. input layer is called layer 1 and further layers are named accordingly. number of layers = $L$\n",
    "2. number of neurons in layer $l = d_l$\n",
    "3. weight connecting $k^{th}$ neuron in $(l-1)^{th}$ layer to $j^{th}$ neuron in $l^{th}$ layer : $w_{jk}^l$\n",
    "4. bias of $j^{th}$ neuron of layer $l : b_j^l$\n",
    "5. There are two values associated with a neuron : linear combination value (denoted as $z_k^l$), activation (denoted as $a_k^l$)\n",
    "6. $z^l = w^l * a^{l-1}+b^l$\n",
    "7. $a^l = \\sigma(z^l) $\n",
    "8. objective = $C=\\frac{1}{2}\\sum_{j}||y_j-a_j^L||^2  $\n",
    "9. Error at layer $l = \\delta^l$\n",
    "\n",
    "\n",
    "Equations of backpropagation\n",
    "1. $\\delta^L = \\Delta_aC . \\sigma'(z^L)$\n",
    "2. $\\delta^l = ((w^{l+1})^T \\delta^{l+1}) . \\sigma'(z^l) $\n",
    "3. $\\frac{\\partial C}{\\partial b_j^l} = \\delta_j^l$\n",
    "4. $\\frac{\\partial C}{\\partial w_{jk}^l} = a_k^{l-1}\\delta_j^l$"
   ]
  },
  {
   "cell_type": "markdown",
   "id": "a0baae51",
   "metadata": {},
   "source": [
    "## Implementation"
   ]
  },
  {
   "cell_type": "code",
   "execution_count": 5,
   "id": "9b9132bd",
   "metadata": {},
   "outputs": [],
   "source": [
    "class Network:\n",
    "    #initialize the network \n",
    "    #initialize the weights and biases\n",
    "    def __init__(self,layers):\n",
    "        self.num_layers=len(layers)\n",
    "        self.layers=layers\n",
    "        self.weights=[]\n",
    "        self.biases=[]\n",
    "        self.loss_history=[]\n",
    "        self.accuracy_history=[]\n",
    "        \n",
    "        print(\"Network dimension: \",end=\" \")\n",
    "        for i in range(self.num_layers-1):\n",
    "            w=np.random.randn(layers[i+1],layers[i])\n",
    "            b=np.random.randn(layers[i+1],1)\n",
    "            self.weights.append(w)\n",
    "            self.biases.append(b)\n",
    "            print(\"{} -\".format(layers[i]),end=\" \")\n",
    "        print(\"{}\".format(layers[-1]))\n",
    "\n",
    "    # function to calculate sigmoid activation\n",
    "    def sigmoid(self,x):\n",
    "        return 1/(1+np.exp(-x))\n",
    "    \n",
    "    #function to calculate derivative of sigmoid \n",
    "    def sigmoid_prime(self,x):\n",
    "        z=self.sigmoid(x)\n",
    "        return z*(1-z)\n",
    "    \n",
    "    #function to calculate feed forward\n",
    "    def feedforward(self,x):\n",
    "        for i in range(self.num_layers-1):\n",
    "            z=np.dot(self.weights[i],x.T)+self.biases[i]\n",
    "            x=self.sigmoid(z).T\n",
    "        return x\n",
    "    \n",
    "    #function to calculate accuracy\n",
    "    def calculate_accuracy(self,x,y):\n",
    "        y_predicted=self.feedforward(x)\n",
    "        correct=0\n",
    "        total_datapoints=len(y)\n",
    "        for i in range(total_datapoints):\n",
    "            correct_label=np.argmax(y[i,:])\n",
    "            predicted_label=np.argmax(y_predicted[i,:])\n",
    "            if correct_label==predicted_label:\n",
    "                correct +=1\n",
    "        return (correct*100/total_datapoints)\n",
    "        \n",
    "    #function calculate loss \n",
    "    def calculate_loss(self,x,y):\n",
    "        total_datapoints=len(y)\n",
    "        y_predicted=self.feedforward(x)\n",
    "        return np.mean((y_predicted-y)**2)\n",
    "        \n",
    "    #function to carry out SGD\n",
    "    def SGD(self,train_x,train_y,epochs,mini_batch_size,lr,verbose=1):\n",
    "        #steps involved:\n",
    "        #step 1:sample mini batch size data from the training samples\n",
    "        #step 2: calculate backpropagation and calculate gradients for weights and biases\n",
    "        #step 3: update the weights and biases \n",
    "        \n",
    "        number_of_data_points=len(train_x)\n",
    "        for epoch in range(epochs):\n",
    "            for k in range(0,number_of_data_points,mini_batch_size):\n",
    "                k1=k//mini_batch_size\n",
    "                x=train_x[k1*mini_batch_size:(k1+1)*mini_batch_size,:]\n",
    "                y=train_y[k1*mini_batch_size:(k1+1)*mini_batch_size,:]\n",
    "                self.update_mini_batch(x,y,lr)\n",
    "            loss=self.calculate_loss(train_x,train_y)\n",
    "            accuracy=self.calculate_accuracy(train_x,train_y)\n",
    "            if verbose==1:\n",
    "                print(\"[Update] epoch:{}, loss:{:.3f}, accuracy:{:.2f}\".format(epoch+1,loss,accuracy))\n",
    "            self.loss_history.append(loss)\n",
    "            self.accuracy_history.append(accuracy)\n",
    "        print(\"[Update] Accuracy after {} epochs:{:.2f}\".format(epochs,accuracy))\n",
    "        \n",
    "    #function to update mini batch    \n",
    "    def update_mini_batch(self,x,y,lr):\n",
    "        #steps involved:\n",
    "        #step 1: feedforward through the network \n",
    "        #step 2: calculate gradients\n",
    "        #step 3: update the weights and biases\n",
    "\n",
    "\n",
    "        activations=[x]\n",
    "        activation=x\n",
    "        delta_L=[]\n",
    "        \n",
    "        #feedforward through the network\n",
    "        for i in range(self.num_layers-1):\n",
    "            z=np.dot(self.weights[i],activation.T)+self.biases[i]\n",
    "            activation=self.sigmoid(z).T\n",
    "            activations.append(activation)\n",
    "        \n",
    "        #calculate errors for each layer\n",
    "        for i in range(self.num_layers-1,0,-1):\n",
    "            if i==self.num_layers-1:\n",
    "                delta_l=(activations[-1]-y)*activations[-1]*(1-activations[-1])\n",
    "                delta_L.append(delta_l)\n",
    "            else:\n",
    "#                 delta_l=(np.dot(delta_L[-1],self.weights[i]))*(activations[-i-1]*(1-activations[-i-1]))\n",
    "                delta_l=(np.dot(delta_L[-1],self.weights[i]))*(activations[i]*(1-activations[i]))\n",
    "                delta_L.append(delta_l)\n",
    "\n",
    "        #calculate weight gradients and bias gradients\n",
    "        for i in range(1,self.num_layers):\n",
    "            dw=np.dot(delta_L[-i].T,activations[i-1])\n",
    "            db=delta_L[-i].T\n",
    "            self.weights[i-1] -= lr*dw\n",
    "            self.biases[i-1] -= lr*np.mean(db,axis=1,keepdims=True)\n",
    "    \n",
    "    #plot the loss and accuracy history\n",
    "    def plot_history(self):\n",
    "        plt.subplot(1,2,1)\n",
    "        plt.plot(self.loss_history,'k--')\n",
    "        plt.xlabel('epochs')\n",
    "        plt.ylabel('loss')\n",
    "        \n",
    "        plt.subplot(1,2,2)\n",
    "        plt.plot(self.accuracy_history,'k--')\n",
    "        plt.xlabel('epochs')\n",
    "        plt.ylabel('accuracy')\n",
    "    \n",
    "    #function to calculate test accuracy\n",
    "    def test_accuracy(self,test_x,test_y):\n",
    "        print(\"[Update] Test accuracy: {:.3f} %\".format(self.calculate_accuracy(test_x,test_y)))\n",
    "    "
   ]
  },
  {
   "cell_type": "markdown",
   "id": "8c6ca748",
   "metadata": {},
   "source": [
    "### Load the Mnist dataset and preprocess it"
   ]
  },
  {
   "cell_type": "code",
   "execution_count": 6,
   "id": "36d68be0",
   "metadata": {},
   "outputs": [
    {
     "name": "stdout",
     "output_type": "stream",
     "text": [
      "(60000, 785)\n"
     ]
    },
    {
     "data": {
      "image/png": "[encoded data removed]",
      "text/plain": [
       "<Figure size 864x864 with 2 Axes>"
      ]
     },
     "metadata": {
      "needs_background": "light"
     },
     "output_type": "display_data"
    }
   ],
   "source": [
    "#load the mnist dataset as a pandas dataframe\n",
    "mnist_train_data=pd.read_csv('mnist_train.csv').to_numpy().astype('float64')\n",
    "print(mnist_train_data.shape)\n",
    "\n",
    "#as we can see, the train data is having 60000x785 dimension.. i.e. 784 for 28x28 flattened image and 1 for output\n",
    "#display two of images \n",
    "image1=mnist_train_data[40,1:].reshape(28,28)\n",
    "label1=mnist_train_data[40,0]\n",
    "image2=mnist_train_data[670,1:].reshape(28,28)\n",
    "label2=mnist_train_data[670,0]\n",
    "display_images([image1,image2],[str(label1),str(label2)])\n",
    "\n",
    "#now normalize the training image and build the training dataset that will be \n",
    "# fed to the network\n",
    "training_dataset=mnist_train_data.copy()\n",
    "training_dataset[:,1:] /=255.0\n",
    "\n",
    "#separate train_x and train_y and convert train_y to one hot labels\n",
    "train_x=training_dataset[:,1:]\n",
    "train_y=training_dataset[:,0]\n",
    "\n",
    "labels=np.zeros((len(train_y),10))\n",
    "for i in range(len(train_y)):\n",
    "    labels[i,int(train_y[i])]=1\n",
    "\n",
    "\n"
   ]
  },
  {
   "cell_type": "code",
   "execution_count": 8,
   "id": "777e37aa",
   "metadata": {},
   "outputs": [
    {
     "name": "stdout",
     "output_type": "stream",
     "text": [
      "Network dimension:  784 - 30 - 10\n",
      "[Update] epoch:1, loss:0.021, accuracy:87.13\n",
      "[Update] epoch:2, loss:0.016, accuracy:90.42\n",
      "[Update] epoch:3, loss:0.013, accuracy:91.86\n",
      "[Update] epoch:4, loss:0.012, accuracy:92.62\n",
      "[Update] epoch:5, loss:0.011, accuracy:93.21\n",
      "[Update] epoch:6, loss:0.010, accuracy:93.69\n",
      "[Update] epoch:7, loss:0.010, accuracy:94.06\n",
      "[Update] epoch:8, loss:0.009, accuracy:94.36\n",
      "[Update] epoch:9, loss:0.009, accuracy:94.56\n",
      "[Update] epoch:10, loss:0.009, accuracy:94.72\n",
      "[Update] epoch:11, loss:0.009, accuracy:94.89\n",
      "[Update] epoch:12, loss:0.008, accuracy:95.01\n",
      "[Update] epoch:13, loss:0.008, accuracy:95.10\n",
      "[Update] epoch:14, loss:0.008, accuracy:95.17\n",
      "[Update] epoch:15, loss:0.008, accuracy:95.29\n",
      "[Update] epoch:16, loss:0.008, accuracy:95.35\n",
      "[Update] epoch:17, loss:0.008, accuracy:95.46\n",
      "[Update] epoch:18, loss:0.008, accuracy:95.54\n",
      "[Update] epoch:19, loss:0.007, accuracy:95.61\n",
      "[Update] epoch:20, loss:0.007, accuracy:95.68\n",
      "[Update] epoch:21, loss:0.007, accuracy:95.75\n",
      "[Update] epoch:22, loss:0.007, accuracy:95.84\n",
      "[Update] epoch:23, loss:0.007, accuracy:95.92\n",
      "[Update] epoch:24, loss:0.007, accuracy:95.98\n",
      "[Update] epoch:25, loss:0.007, accuracy:96.02\n",
      "[Update] epoch:26, loss:0.007, accuracy:96.07\n",
      "[Update] epoch:27, loss:0.007, accuracy:96.09\n",
      "[Update] epoch:28, loss:0.007, accuracy:96.12\n",
      "[Update] epoch:29, loss:0.007, accuracy:96.18\n",
      "[Update] epoch:30, loss:0.006, accuracy:96.22\n",
      "[Update] epoch:31, loss:0.006, accuracy:96.24\n",
      "[Update] epoch:32, loss:0.006, accuracy:96.26\n",
      "[Update] epoch:33, loss:0.006, accuracy:96.28\n",
      "[Update] epoch:34, loss:0.006, accuracy:96.30\n",
      "[Update] epoch:35, loss:0.006, accuracy:96.33\n",
      "[Update] epoch:36, loss:0.006, accuracy:96.33\n",
      "[Update] epoch:37, loss:0.006, accuracy:96.38\n",
      "[Update] epoch:38, loss:0.006, accuracy:96.40\n",
      "[Update] epoch:39, loss:0.006, accuracy:96.42\n",
      "[Update] epoch:40, loss:0.006, accuracy:96.45\n",
      "[Update] epoch:41, loss:0.006, accuracy:96.48\n",
      "[Update] epoch:42, loss:0.006, accuracy:96.50\n",
      "[Update] epoch:43, loss:0.006, accuracy:96.54\n",
      "[Update] epoch:44, loss:0.006, accuracy:96.55\n",
      "[Update] epoch:45, loss:0.006, accuracy:96.57\n",
      "[Update] epoch:46, loss:0.006, accuracy:96.58\n",
      "[Update] epoch:47, loss:0.006, accuracy:96.61\n",
      "[Update] epoch:48, loss:0.006, accuracy:96.62\n",
      "[Update] epoch:49, loss:0.006, accuracy:96.64\n",
      "[Update] epoch:50, loss:0.006, accuracy:96.65\n",
      "[Update] epoch:51, loss:0.006, accuracy:96.67\n",
      "[Update] epoch:52, loss:0.006, accuracy:96.69\n",
      "[Update] epoch:53, loss:0.006, accuracy:96.72\n",
      "[Update] epoch:54, loss:0.006, accuracy:96.74\n",
      "[Update] epoch:55, loss:0.006, accuracy:96.75\n",
      "[Update] epoch:56, loss:0.006, accuracy:96.76\n",
      "[Update] epoch:57, loss:0.005, accuracy:96.77\n",
      "[Update] epoch:58, loss:0.005, accuracy:96.79\n",
      "[Update] epoch:59, loss:0.005, accuracy:96.81\n",
      "[Update] epoch:60, loss:0.005, accuracy:96.83\n",
      "[Update] epoch:61, loss:0.005, accuracy:96.84\n",
      "[Update] epoch:62, loss:0.005, accuracy:96.86\n",
      "[Update] epoch:63, loss:0.005, accuracy:96.86\n",
      "[Update] epoch:64, loss:0.005, accuracy:96.85\n",
      "[Update] epoch:65, loss:0.005, accuracy:96.87\n",
      "[Update] epoch:66, loss:0.005, accuracy:96.88\n",
      "[Update] epoch:67, loss:0.005, accuracy:96.89\n",
      "[Update] epoch:68, loss:0.005, accuracy:96.91\n",
      "[Update] epoch:69, loss:0.005, accuracy:96.92\n",
      "[Update] epoch:70, loss:0.005, accuracy:96.93\n",
      "[Update] epoch:71, loss:0.005, accuracy:96.95\n",
      "[Update] epoch:72, loss:0.005, accuracy:96.94\n",
      "[Update] epoch:73, loss:0.005, accuracy:96.95\n",
      "[Update] epoch:74, loss:0.005, accuracy:96.95\n",
      "[Update] epoch:75, loss:0.005, accuracy:96.94\n",
      "[Update] epoch:76, loss:0.005, accuracy:96.95\n",
      "[Update] epoch:77, loss:0.005, accuracy:96.95\n",
      "[Update] epoch:78, loss:0.005, accuracy:96.97\n",
      "[Update] epoch:79, loss:0.005, accuracy:96.98\n",
      "[Update] epoch:80, loss:0.005, accuracy:97.01\n",
      "[Update] epoch:81, loss:0.005, accuracy:97.02\n",
      "[Update] epoch:82, loss:0.005, accuracy:97.02\n",
      "[Update] epoch:83, loss:0.005, accuracy:97.04\n",
      "[Update] epoch:84, loss:0.005, accuracy:97.05\n",
      "[Update] epoch:85, loss:0.005, accuracy:97.06\n",
      "[Update] epoch:86, loss:0.005, accuracy:97.08\n",
      "[Update] epoch:87, loss:0.005, accuracy:97.10\n",
      "[Update] epoch:88, loss:0.005, accuracy:97.10\n",
      "[Update] epoch:89, loss:0.005, accuracy:97.11\n",
      "[Update] epoch:90, loss:0.005, accuracy:97.11\n",
      "[Update] epoch:91, loss:0.005, accuracy:97.12\n",
      "[Update] epoch:92, loss:0.005, accuracy:97.14\n",
      "[Update] epoch:93, loss:0.005, accuracy:97.16\n",
      "[Update] epoch:94, loss:0.005, accuracy:97.16\n",
      "[Update] epoch:95, loss:0.005, accuracy:97.17\n",
      "[Update] epoch:96, loss:0.005, accuracy:97.17\n",
      "[Update] epoch:97, loss:0.005, accuracy:97.18\n",
      "[Update] epoch:98, loss:0.005, accuracy:97.18\n",
      "[Update] epoch:99, loss:0.005, accuracy:97.17\n",
      "[Update] epoch:100, loss:0.005, accuracy:97.19\n",
      "[Update] Accuracy after 100 epochs:97.19\n"
     ]
    },
    {
     "data": {
      "image/png": "[encoded data removed]",
      "text/plain": [
       "<Figure size 432x288 with 2 Axes>"
      ]
     },
     "metadata": {
      "needs_background": "light"
     },
     "output_type": "display_data"
    }
   ],
   "source": [
    "#build a network and train the model\n",
    "net=Network([784,30,10])\n",
    "net.SGD(train_x,labels,100,32,0.1,verbose=1)\n",
    "net.plot_history()"
   ]
  },
  {
   "cell_type": "code",
   "execution_count": 9,
   "id": "6c6d6430",
   "metadata": {},
   "outputs": [
    {
     "name": "stdout",
     "output_type": "stream",
     "text": [
      "(10000, 785)\n",
      "[Update] Test accuracy: 94.440 %\n"
     ]
    }
   ],
   "source": [
    "#test the network on test dataset\n",
    "mnist_test_data=pd.read_csv('mnist_test.csv').to_numpy().astype('float64')\n",
    "print(mnist_test_data.shape)\n",
    "\n",
    "#now normalize the training image and build the training dataset that will be \n",
    "# fed to the network\n",
    "test_dataset=mnist_test_data.copy()\n",
    "test_dataset[:,1:] /=255.0\n",
    "\n",
    "#separate train_x and train_y and convert train_y to one hot labels\n",
    "test_x=test_dataset[:,1:]\n",
    "test_y=test_dataset[:,0]\n",
    "\n",
    "labels=np.zeros((len(test_y),10))\n",
    "for i in range(len(test_y)):\n",
    "    labels[i,int(test_y[i])]=1\n",
    "\n",
    "#check test set accuracy\n",
    "net.test_accuracy(test_x,labels)"
   ]
  },
  {
   "cell_type": "code",
   "execution_count": null,
   "id": "5360b5db",
   "metadata": {},
   "outputs": [],
   "source": []
  }
 ],
 "metadata": {
  "kernelspec": {
   "display_name": "Python 3 (ipykernel)",
   "language": "python",
   "name": "python3"
  },
  "language_info": {
   "codemirror_mode": {
    "name": "ipython",
    "version": 3
   },
   "file_extension": ".py",
   "mimetype": "text/x-python",
   "name": "python",
   "nbconvert_exporter": "python",
   "pygments_lexer": "ipython3",
   "version": "3.9.12"
  }
 },
 "nbformat": 4,
 "nbformat_minor": 5
}
